{
 "cells": [
  {
   "cell_type": "markdown",
   "metadata": {},
   "source": [
    "## Data wrangling - CA only\n",
    "\n",
    "The main data wrangling challenge for this project is that the training data comes from two different sources: NOAA weather data and USDA fire data. Therefore, the data must be parsed and formatted, then joined. The most challenging part of this process was to match wildfire locations from the USDA (Fig. 1) data with weather data geospatial bins from the NOAA data (Fig. 2). See below for major steps needed:\n",
    "\n",
    "1. Get NOAA NARR weather data\n",
    "2. Parse NOAA NARR weather data\n",
    "3. Parse USDA wildfire data\n",
    "4. Combine NOAA NARR weather data files\n",
    "5. Combine weather and fire data\n",
    "6. Add weather features\n",
    "7. Fully stratified sampling"
   ]
  },
  {
   "cell_type": "markdown",
   "metadata": {},
   "source": [
    "<h2 style=\"text-align: center;\"><b>Figure 1: Raw USDA wildfire location data for California</b></h2>"
   ]
  },
  {
   "cell_type": "markdown",
   "metadata": {},
   "source": [
    "![Scatterplot of California wildfire locations](https://github.com/gperdrizet/wildfire_production/blob/master/project_info/figures/california_fires_scatterplot.png?raw=true)"
   ]
  },
  {
   "cell_type": "markdown",
   "metadata": {},
   "source": [
    "<h2 style=\"text-align: center;\"><b>Figure 2: USDA wildfire location data regridded to match NOAA weather data</b></h2>"
   ]
  },
  {
   "cell_type": "markdown",
   "metadata": {},
   "source": [
    "![Scatterplot of regirdded California wildfire locations](https://github.com/gperdrizet/wildfire_production/blob/master/project_info/figures/regridded_california_fires_scatterplot.png?raw=true)"
   ]
  },
  {
   "cell_type": "markdown",
   "metadata": {},
   "source": [
    "## Exploratory data analysis\n",
    "Initial exploratory data analysis was conducted on the training dataset to get a feel for the shape of the data. Aspects investigated included:\n",
    "\n",
    "1. Trends in fires over time and space (Fig. 3)\n",
    "2. Spatial distribution of weather variables (Fig. 4)\n",
    "3. Numerical distribution of weather variables (Fig. 5)\n",
    "4. Correlation of weather variables and fire (Fig. 6)\n",
    "5. Cross correlation of variables in the data set (Fig. 7)"
   ]
  },
  {
   "cell_type": "markdown",
   "metadata": {},
   "source": [
    "<h2 style=\"text-align: center;\"><b>Figure 3: Trends in wildfire occurrence</b></h2>"
   ]
  },
  {
   "cell_type": "markdown",
   "metadata": {},
   "source": [
    "![California wildfires overview](https://github.com/gperdrizet/wildfire_production/blob/master/project_info/figures/fire_data_overveiw.png?raw=true)"
   ]
  },
  {
   "cell_type": "markdown",
   "metadata": {},
   "source": [
    "<h2 style=\"text-align: center;\"><b>Figure 4: Spatial distribution of weather variables</b></h2>"
   ]
  },
  {
   "cell_type": "markdown",
   "metadata": {},
   "source": [
    "![weather data heatmaps](https://github.com/gperdrizet/wildfire_production/blob/master/project_info/figures/weather_data_heat_maps.png?raw=true)"
   ]
  },
  {
   "cell_type": "markdown",
   "metadata": {},
   "source": [
    "<h2 style=\"text-align: center;\"><b>Figure 5: Numerical distribution of weather variables</b></h2>"
   ]
  },
  {
   "cell_type": "markdown",
   "metadata": {},
   "source": [
    "![weather data distributions](https://github.com/gperdrizet/wildfire_production/blob/master/project_info/figures/weather_data_distributions.png?raw=true)"
   ]
  },
  {
   "cell_type": "markdown",
   "metadata": {},
   "source": [
    "<h2 style=\"text-align: center;\"><b>Figure 6: Correlation of weather variables and fire</b></h2>"
   ]
  },
  {
   "cell_type": "markdown",
   "metadata": {},
   "source": [
    "![weather fire correlations](https://github.com/gperdrizet/wildfire_production/blob/master/project_info/figures/weather_fire_correlation_lineplot.png?raw=true)"
   ]
  },
  {
   "cell_type": "markdown",
   "metadata": {},
   "source": [
    "<h2 style=\"text-align: center;\"><b>Figure 7: Weather variable cross correlation</b></h2>"
   ]
  },
  {
   "cell_type": "markdown",
   "metadata": {},
   "source": [
    "![weather cross correlations](https://github.com/gperdrizet/wildfire_production/blob/master/project_info/figures/weather_data_crossd_correlation.png?raw=true)"
   ]
  },
  {
   "cell_type": "markdown",
   "metadata": {},
   "source": [
    "## Model selection & optimization\n",
    "\n",
    "Several types of machine learning models were evaluated for their ability to predict fire based on weather data. Ultimately, a solution using a custom geospatially parallel LSTM was chosen based on generalizability.\n",
    "\n",
    "1. Classifier model selection (Fig. 8-10)\n",
    "2. XGBoost optimization (Fig. 11-13)\n",
    "3. Deep neural net optimization (Fig. 14-15)\n",
    "4. Single LSTM optimization (Fig. 16-18)\n",
    "5. Parallel LSTM optimization (Fig. 19-21)"
   ]
  },
  {
   "cell_type": "markdown",
   "metadata": {},
   "source": [
    "<h2 style=\"text-align: center;\"><b>Figure 8: Evaluation of classification models: performance</b></h2>"
   ]
  },
  {
   "cell_type": "markdown",
   "metadata": {},
   "source": [
    "![Classifier model selection](https://github.com/gperdrizet/wildfire_production/blob/master/project_info/figures/classifier_model_selection.png?raw=true)"
   ]
  },
  {
   "cell_type": "markdown",
   "metadata": {},
   "source": [
    "<h2 style=\"text-align: center;\"><b>Figure 9: Evaluation of classification models: run time</b></h2>"
   ]
  },
  {
   "cell_type": "markdown",
   "metadata": {},
   "source": [
    "![Classifier model selection: time to run](https://github.com/gperdrizet/wildfire_production/blob/master/project_info/figures/classifier_model_selection_time.png?raw=true)"
   ]
  },
  {
   "cell_type": "markdown",
   "metadata": {},
   "source": [
    "<h2 style=\"text-align: center;\"><b>Figure 10: Evaluation of classification models: memory use</b></h2>"
   ]
  },
  {
   "cell_type": "markdown",
   "metadata": {},
   "source": [
    "![Classifier model selection: memory](https://github.com/gperdrizet/wildfire_production/blob/master/project_info/figures/classifier_model_selection_memory.png?raw=true)"
   ]
  },
  {
   "cell_type": "markdown",
   "metadata": {},
   "source": [
    "<h2 style=\"text-align: center;\"><b>Figure 11: XGBoost optimization: baseline</b></h2>"
   ]
  },
  {
   "cell_type": "markdown",
   "metadata": {},
   "source": [
    "![XGBoost confusion matrix: no optimization](https://github.com/gperdrizet/wildfire_production/blob/master/project_info/figures/xgboost_confusion_matrix_no_opotimization.png?raw=true)"
   ]
  },
  {
   "cell_type": "markdown",
   "metadata": {},
   "source": [
    "<h2 style=\"text-align: center;\"><b>Figure 12: XGBoost optimization: tuned hyperparameters</b></h2>"
   ]
  },
  {
   "cell_type": "markdown",
   "metadata": {},
   "source": [
    "![XGBoost confusion matrix: optimized](https://github.com/gperdrizet/wildfire_production/blob/master/project_info/figures/xgboost_confusion_matrix_optimized.png?raw=true)"
   ]
  },
  {
   "cell_type": "markdown",
   "metadata": {},
   "source": [
    "<h2 style=\"text-align: center;\"><b>Figure 13: XGBoost optimization: feature importance</b></h2>"
   ]
  },
  {
   "cell_type": "markdown",
   "metadata": {},
   "source": [
    "![XGBoost feature importance](https://github.com/gperdrizet/wildfire_production/blob/master/project_info/figures/xgboost_feature_importance.png?raw=true)"
   ]
  },
  {
   "cell_type": "markdown",
   "metadata": {},
   "source": [
    "<h2 style=\"text-align: center;\"><b>Figure 14: Deep neural net: learning curves</b></h2>"
   ]
  },
  {
   "cell_type": "markdown",
   "metadata": {},
   "source": [
    "![MLP learning curves](https://github.com/gperdrizet/wildfire/blob/master/figures/simple_MLP_learning_curves.png?raw=true)"
   ]
  },
  {
   "cell_type": "markdown",
   "metadata": {},
   "source": [
    "<h2 style=\"text-align: center;\"><b>Figure 15: Deep neural net: example predictions on training data</b></h2>"
   ]
  },
  {
   "cell_type": "markdown",
   "metadata": {},
   "source": [
    "![MLP learning curves](https://github.com/gperdrizet/wildfire/blob/master/figures/simple_MLP_training_predictions.png?raw=true)"
   ]
  },
  {
   "cell_type": "markdown",
   "metadata": {},
   "source": [
    "<h2 style=\"text-align: center;\"><b>Figure 16: Single LSTM: training data confusion matrix</b></h2>"
   ]
  },
  {
   "cell_type": "markdown",
   "metadata": {},
   "source": [
    "![LSTM Cassandra confusion matrix](https://github.com/gperdrizet/wildfire/blob/master/figures/statefull_single_LSTM_cassandra_confusion_maxrix_CA_only.png?raw=true)"
   ]
  },
  {
   "cell_type": "markdown",
   "metadata": {},
   "source": [
    "<h2 style=\"text-align: center;\"><b>Figure 17: Single LSTM: example training data predictions</b></h2>"
   ]
  },
  {
   "cell_type": "markdown",
   "metadata": {},
   "source": [
    "![LSTM Cassandra predictions](https://github.com/gperdrizet/wildfire/blob/master/figures/statefull_single_LSTM_cassandra_training_predictions_CA_only.png?raw=true)"
   ]
  },
  {
   "cell_type": "markdown",
   "metadata": {},
   "source": [
    "<h2 style=\"text-align: center;\"><b>Figure 18: parallel LSTM learning curves</b></h2>"
   ]
  },
  {
   "attachments": {},
   "cell_type": "markdown",
   "metadata": {},
   "source": [
    "![Parallel LSTM learning curves](https://github.com/gperdrizet/wildfire/blob/master/figures/parallel_LSTM_learning_curves_CA_only.png?raw=true)"
   ]
  },
  {
   "cell_type": "markdown",
   "metadata": {},
   "source": [
    "<h2 style=\"text-align: center;\"><b>Figure 19: Parallel LSTM confusion matrix</b></h2>"
   ]
  },
  {
   "cell_type": "markdown",
   "metadata": {},
   "source": [
    "![Parallel LSTM training confusion matrix](https://github.com/gperdrizet/wildfire/blob/master/figures/parallel_statefull_LSTM_confusion_matrix_CA_only.png?raw=true)"
   ]
  }
 ],
 "metadata": {
  "kernelspec": {
   "display_name": "Python 3",
   "language": "python",
   "name": "python3"
  },
  "language_info": {
   "codemirror_mode": {
    "name": "ipython",
    "version": 3
   },
   "file_extension": ".py",
   "mimetype": "text/x-python",
   "name": "python",
   "nbconvert_exporter": "python",
   "pygments_lexer": "ipython3",
   "version": "3.7.7"
  }
 },
 "nbformat": 4,
 "nbformat_minor": 4
}
