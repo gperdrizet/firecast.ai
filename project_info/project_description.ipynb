{
 "cells": [
  {
   "cell_type": "markdown",
   "metadata": {},
   "source": [
    "### Summary"
   ]
  },
  {
   "cell_type": "markdown",
   "metadata": {},
   "source": [
    "### Data sources\n",
    "\n",
    "1. NOAA NARR\n",
    "2. USDA 1.88 million wildfires"
   ]
  },
  {
   "cell_type": "markdown",
   "metadata": {},
   "source": [
    "### Data wrangling - CA only\n",
    "\n",
    "1. Get NOAA NARR weather data\n",
    "2. Parse NOAA NARR weather data\n",
    "3. Parse USDA wildfire data\n",
    "4. Combine NOAA NARR weather data files\n",
    "5. Combine weather and fire data\n",
    "6. Add weather features\n",
    "7. Fully stratified sampling"
   ]
  },
  {
   "cell_type": "markdown",
   "metadata": {},
   "source": [
    "![Scatterplot of California wildfire locations](https://github.com/gperdrizet/wildfire_production/blob/master/project_info/figures/california_fires_scatterplot.png?raw=true)"
   ]
  },
  {
   "cell_type": "markdown",
   "metadata": {},
   "source": [
    "![Scatterplot of regirdded California wildfire locations](https://github.com/gperdrizet/wildfire_production/blob/master/project_info/figures/regridded_california_fires_scatterplot.png?raw=true)"
   ]
  },
  {
   "cell_type": "markdown",
   "metadata": {},
   "source": [
    "### Exploratory data analysis\n",
    "\n",
    "1. Exploratory data analysis"
   ]
  },
  {
   "cell_type": "markdown",
   "metadata": {},
   "source": [
    "### Model selection & optimization\n",
    "\n",
    "1. Classifier model selection\n",
    "2. XGBoost optimization\n",
    "3. Deep neural net optimization\n",
    "4. Single LSTM optimization\n",
    "5. Parallel LSTM optimization"
   ]
  },
  {
   "cell_type": "markdown",
   "metadata": {},
   "source": [
    "### Deployment\n",
    "\n",
    "1. Luigi prediction pipeline\n",
    "2. Flask API"
   ]
  },
  {
   "cell_type": "markdown",
   "metadata": {},
   "source": [
    "### Scaling - whole US\n",
    "\n",
    "1. Get NOAA NARR weather data\n",
    "2. Parse NOAA NARR weather data\n",
    "3. Parse USDA wildfire data\n",
    "4. Combine NOAA NARR weather data files\n",
    "5. Combine weather and fire data\n",
    "6. Add weather features\n",
    "7. Fully stratified sampling"
   ]
  }
 ],
 "metadata": {
  "kernelspec": {
   "display_name": "Python 3",
   "language": "python",
   "name": "python3"
  },
  "language_info": {
   "codemirror_mode": {
    "name": "ipython",
    "version": 3
   },
   "file_extension": ".py",
   "mimetype": "text/x-python",
   "name": "python",
   "nbconvert_exporter": "python",
   "pygments_lexer": "ipython3",
   "version": "3.7.7"
  }
 },
 "nbformat": 4,
 "nbformat_minor": 4
}
