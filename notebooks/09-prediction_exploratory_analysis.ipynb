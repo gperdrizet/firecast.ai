{
 "cells": [
  {
   "cell_type": "code",
   "execution_count": 8,
   "metadata": {},
   "outputs": [],
   "source": [
    "import csv\n",
    "import pandas as pd\n",
    "import numpy as np\n",
    "import matplotlib.pyplot as plt\n",
    "import tensorflow as tf\n",
    "from pickle import load\n",
    "from tensorflow import keras\n",
    "from sklearn.preprocessing import OneHotEncoder\n",
    "\n",
    "from descartes import PolygonPatch\n",
    "\n",
    "import helper_functions.config as config\n",
    "import helper_functions.data_functions as data_functions\n",
    "import helper_functions.plotting_functions as plotting_functions\n",
    "\n",
    "def warn(*args, **kwargs):\n",
    "    pass\n",
    "\n",
    "import warnings\n",
    "warnings.warn = warn"
   ]
  },
  {
   "cell_type": "code",
   "execution_count": 11,
   "metadata": {},
   "outputs": [],
   "source": [
    "raw_data = pd.read_parquet(data_file)\n",
    "data = raw_data[features]\n",
    "\n",
    "data.rename(columns={\n",
    "    \"mean_air_2m\": \"temp\", \n",
    "    \"mean_apcp\": \"rain\",\n",
    "    \"mean_rhum_2m\": \"humidity\",\n",
    "    \"mean_dpt_2m\": \"dew_point\",\n",
    "    \"mean_pres_sfc\": \"pressure\",\n",
    "    \"mean_uwnd_10m\": \"uwind\",\n",
    "    \"mean_vwnd_10m\": \"vwind\",\n",
    "    \"mean_cloud_cover\": \"cloud_cover\"\n",
    "    \n",
    "}, inplace=True)\n",
    "\n",
    "prediction_data = data.drop('ignition', axis=1)\n",
    "\n",
    "with open(lat_lon_bins_file, 'r') as lat_lon_bins_file:\n",
    "    rows = csv.reader(lat_lon_bins_file)\n",
    "    lat_lon_bins = list(rows)\n",
    "    \n",
    "date_list = pd.DatetimeIndex(prediction_data['date'].unique())\n",
    "\n",
    "california = data_functions.get_california_polygon(states_shapefile)\n",
    "multipoly = california.loc[16, 'geometry']\n",
    "california_land_mass = multipoly[-1]"
   ]
  },
  {
   "cell_type": "code",
   "execution_count": 12,
   "metadata": {},
   "outputs": [
    {
     "name": "stdout",
     "output_type": "stream",
     "text": [
      "input_data is <class 'list'>, length: 410, member shape: (8760, 5, 22).\n"
     ]
    }
   ],
   "source": [
    "prediction_data = scale_features(prediction_data, features_to_scale, quantile_transformer, min_max_scaler)\n",
    "prediction_data = onehot_month(prediction_data)\n",
    "prediction_data = format_data(prediction_data, shape_parameters)\n",
    "predictions = predict(prediction_data, hyperparameters, weights_file)\n",
    "formatted_predictions = format_for_api(predictions, lat_lon_bins, date_list)"
   ]
  },
  {
   "cell_type": "code",
   "execution_count": null,
   "metadata": {},
   "outputs": [],
   "source": [
    "left  = 0.125  # the left side of the subplots of the figure\n",
    "right = 0.65   # the right side of the subplots of the figure\n",
    "bottom = 0.1   # the bottom of the subplots of the figure\n",
    "top = 0.9      # the top of the subplots of the figure\n",
    "wspace = 0.2   # the amount of width reserved for blank space between subplots\n",
    "hspace = 0.3   # the amount of height reserved for white space between subplots\n",
    "\n",
    "fig_rows = 8\n",
    "fig_cols = 2\n",
    "plot_height = 65\n",
    "plot_width = 30\n",
    "\n",
    "plot_locations = [\n",
    "    (0,0),(0,1),\n",
    "    (1,0),(1,1),\n",
    "    (2,0),(2,1),\n",
    "    (3,0),(3,1),\n",
    "    (4,0),(4,1),\n",
    "    (5,0),(5,1),\n",
    "    (6,0),(6,1),\n",
    "    (7,0),(7,1)\n",
    "]\n",
    "\n",
    "num_contour_levels = 100\n",
    "\n",
    "formatted_predictions['lat'] = formatted_predictions['lat'].astype('float32')\n",
    "formatted_predictions['lon'] = formatted_predictions['lon'].astype('float32')\n",
    "\n",
    "prediction_data_by_day = formatted_predictions.groupby('day')\n",
    "\n",
    "fig, ax = plt.subplots(fig_rows, fig_cols, figsize=(plot_width, plot_height))\n",
    "fig.subplots_adjust(left=left, bottom=bottom, right=right, top=top, wspace=wspace, hspace=hspace)\n",
    "\n",
    "i = 0\n",
    "\n",
    "while i < 16:\n",
    "    day = str(date_list[i].date())\n",
    "    predictions = prediction_data_by_day.get_group(day)\n",
    "    predictions.drop('day', axis=1, inplace=True)\n",
    "\n",
    "    xi, yi, zi = data_functions.regularize_grid(predictions, 'ignition_risk', 0.001)\n",
    "\n",
    "    ax[plot_locations[i]].add_patch(PolygonPatch(california_land_mass, fc='none', ec='black', lw='2', zorder=2))\n",
    "    ax[plot_locations[i]].contourf(xi, yi, zi, num_contour_levels, cmap='viridis')\n",
    "    ax[plot_locations[i]].set_title(day, fontsize=18)\n",
    "    ax[plot_locations[i]].set_aspect('equal', adjustable='box')\n",
    "    \n",
    "    i += 1"
   ]
  },
  {
   "cell_type": "code",
   "execution_count": null,
   "metadata": {},
   "outputs": [],
   "source": [
    "predictions_file = '../deployment/data/predictions/2020-06-21_formatted_predictions.parquet'"
   ]
  },
  {
   "cell_type": "code",
   "execution_count": null,
   "metadata": {},
   "outputs": [],
   "source": [
    "prediction_data = pd.read_parquet(predictions_file)\n",
    "prediction_data['lat'] = prediction_data['lat'].astype('float32')\n",
    "prediction_data['lon'] = prediction_data['lon'].astype('float32')"
   ]
  },
  {
   "cell_type": "code",
   "execution_count": null,
   "metadata": {},
   "outputs": [],
   "source": [
    "left  = 0.125  # the left side of the subplots of the figure\n",
    "right = 0.65   # the right side of the subplots of the figure\n",
    "bottom = 0.1   # the bottom of the subplots of the figure\n",
    "top = 0.9      # the top of the subplots of the figure\n",
    "wspace = 0.2   # the amount of width reserved for blank space between subplots\n",
    "hspace = 0.3   # the amount of height reserved for white space between subplots\n",
    "\n",
    "fig_rows = 4\n",
    "fig_cols = 2\n",
    "plot_height = 35\n",
    "plot_width = 30\n",
    "\n",
    "plot_locations = [\n",
    "    (0,0),(0,1),\n",
    "    (1,0),(1,1),\n",
    "    (2,0),(2,1),\n",
    "    (3,0),(3,1)\n",
    "]\n",
    "\n",
    "num_contour_levels = 5\n",
    "\n",
    "prediction_data_by_day = prediction_data.groupby('day')\n",
    "\n",
    "fig, ax = plt.subplots(fig_rows, fig_cols, figsize=(plot_width, plot_height))\n",
    "fig.subplots_adjust(left=left, bottom=bottom, right=right, top=top, wspace=wspace, hspace=hspace)\n",
    "\n",
    "i = 0\n",
    "\n",
    "for group_name, predictions in prediction_data_by_day:\n",
    "    day = predictions['day'][0]\n",
    "    predictions.drop('day', axis=1, inplace=True)\n",
    "\n",
    "    xi, yi, zi = data_functions.regularize_grid(predictions, 'ignition_risk', 0.01)\n",
    "\n",
    "    ax[plot_locations[i]].add_patch(PolygonPatch(california_land_mass, fc='none', ec='black', lw='2', zorder=2))\n",
    "    ax[plot_locations[i]].contourf(xi, yi, zi, num_contour_levels, cmap='viridis')\n",
    "    ax[plot_locations[i]].set_title(day, fontsize=18)\n",
    "    ax[plot_locations[i]].set_aspect('equal', adjustable='box')\n",
    "    \n",
    "    i += 1"
   ]
  },
  {
   "cell_type": "code",
   "execution_count": null,
   "metadata": {},
   "outputs": [],
   "source": []
  }
 ],
 "metadata": {
  "kernelspec": {
   "display_name": "Python 3",
   "language": "python",
   "name": "python3"
  },
  "language_info": {
   "codemirror_mode": {
    "name": "ipython",
    "version": 3
   },
   "file_extension": ".py",
   "mimetype": "text/x-python",
   "name": "python",
   "nbconvert_exporter": "python",
   "pygments_lexer": "ipython3",
   "version": "3.7.7"
  }
 },
 "nbformat": 4,
 "nbformat_minor": 4
}
